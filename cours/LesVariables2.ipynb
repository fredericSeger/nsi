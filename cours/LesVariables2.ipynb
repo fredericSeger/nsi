{
 "cells": [
  {
   "cell_type": "markdown",
   "metadata": {},
   "source": [
    "Formation NSI :\n",
    "- Tamin Fadi\n",
    "- Seger Frédéric"
   ]
  },
  {
   "cell_type": "markdown",
   "metadata": {},
   "source": [
    "# Les variables, partie 2 : la visibilité des variables"
   ]
  },
  {
   "cell_type": "markdown",
   "metadata": {},
   "source": [
    "Prérequis :\n",
    "- la leçon 1 sur les variables\n",
    "- la leçon 1 sur les fonctions (concepts de base)\n",
    "\n",
    "Aborde uniquement la visibilité des variables.\n",
    "\n",
    "Est suivie d'une troisième partie abordant l'interaction etre variables et objets mutables."
   ]
  },
  {
   "cell_type": "markdown",
   "metadata": {},
   "source": [
    "## La durée de vie des variables"
   ]
  },
  {
   "cell_type": "markdown",
   "metadata": {},
   "source": [
    "Dès que l'on créé une variable dans un fichier python, celle-ci 'existe' pour le code exécuté après cette création, tant qu'on ne la détruit pas bien sûr.\n",
    "\n",
    "Les variables créées dans le corps d'une fonction sont différentes : elles sont crées lors de l'exécution d'un appel de la fonction et détruites lorsque cet appel prend fin."
   ]
  },
  {
   "cell_type": "markdown",
   "metadata": {},
   "source": [
    "Dans l'exemple ci-dessous :\n",
    "1. La ligne 1 créé une variable *a*. \n",
    "2. La ligne 2 lance **une** exécution de la fonction *fun*.\n",
    "3. Lors de cette exécution, une variable *b*, **propre à cette exécution**, est créée, affichée et automatiquement détruite à  l'issue de cette exécution. Le nombre 2 s'affiche.\n",
    "4. la ligne 3 affiche la valeur de la variable *a* : le nombre 1 s'affiche.\n",
    "5. La ligne 4 tente d'afficher la variable *b*. Cela provoque une erreur car, à ce point du programme, la variable *b* n'existe plus."
   ]
  },
  {
   "cell_type": "code",
   "execution_count": 16,
   "metadata": {
    "collapsed": false
   },
   "outputs": [
    {
     "name": "stdout",
     "output_type": "stream",
     "text": [
      "2\n",
      "1\n"
     ]
    },
    {
     "ename": "NameError",
     "evalue": "name 'b' is not defined",
     "output_type": "error",
     "traceback": [
      "\u001b[1;31m---------------------------------------------------------------------------\u001b[0m",
      "\u001b[1;31mNameError\u001b[0m                                 Traceback (most recent call last)",
      "\u001b[1;32m<ipython-input-16-0cdfc4e4a4fd>\u001b[0m in \u001b[0;36m<module>\u001b[1;34m()\u001b[0m\n\u001b[0;32m      2\u001b[0m \u001b[0mfun\u001b[0m\u001b[1;33m(\u001b[0m\u001b[1;33m)\u001b[0m\u001b[1;33m\u001b[0m\u001b[0m\n\u001b[0;32m      3\u001b[0m \u001b[0mprint\u001b[0m\u001b[1;33m(\u001b[0m\u001b[0ma\u001b[0m\u001b[1;33m)\u001b[0m\u001b[1;33m\u001b[0m\u001b[0m\n\u001b[1;32m----> 4\u001b[1;33m \u001b[0mprint\u001b[0m\u001b[1;33m(\u001b[0m\u001b[0mb\u001b[0m\u001b[1;33m)\u001b[0m\u001b[1;33m\u001b[0m\u001b[0m\n\u001b[0m\u001b[0;32m      5\u001b[0m \u001b[1;33m\u001b[0m\u001b[0m\n\u001b[0;32m      6\u001b[0m \u001b[1;32mdef\u001b[0m \u001b[0mfun\u001b[0m\u001b[1;33m(\u001b[0m\u001b[1;33m)\u001b[0m\u001b[1;33m:\u001b[0m\u001b[1;33m\u001b[0m\u001b[0m\n",
      "\u001b[1;31mNameError\u001b[0m: name 'b' is not defined"
     ]
    }
   ],
   "source": [
    "a = 1\n",
    "fun()\n",
    "print(a)\n",
    "print(b)\n",
    "\n",
    "def fun():\n",
    "    b = 2\n",
    "    print(b)"
   ]
  },
  {
   "cell_type": "markdown",
   "metadata": {},
   "source": [
    "Une variable telle que la variable *a* de l'exemple précédent, c'est à dire créée en dehors de toute fonction, est qualifiée de **globale**. \n",
    "\n",
    "Une variable telle que la variable *b* de l'exemple précédent, c'est à dire liée à l'exécution d'une fonction est appelée une variable **locale**."
   ]
  },
  {
   "cell_type": "markdown",
   "metadata": {},
   "source": [
    "## Le masquage des variables"
   ]
  },
  {
   "cell_type": "markdown",
   "metadata": {},
   "source": [
    "Lorsqu'une variable locale peut avoir le même nom qu'une variable locale. On dit que la variable locale masque la variable locale."
   ]
  },
  {
   "cell_type": "markdown",
   "metadata": {},
   "source": [
    "Dans l'exemple ci-dessous :\n",
    "1. La ligne 1 créé une variable **globale** *a*. \n",
    "2. La ligne 2 lance **une** exécution de la fonction *fun*.\n",
    "3. Lors de cette exécution, une variable **locale** *a* est créée. Cette variable vient masquer la variable globale de même nom. Le nombre 2 s'affiche.\n",
    "4. la ligne 3 affiche la valeur de la variable **globale** *a* : le nombre 1 s'affiche. Il faut noter qu'en cet endroit du programme, la variable locale (temporaire) qui s'appelait *a* n'existe plus.\n"
   ]
  },
  {
   "cell_type": "code",
   "execution_count": 18,
   "metadata": {
    "collapsed": false
   },
   "outputs": [
    {
     "name": "stdout",
     "output_type": "stream",
     "text": [
      "2\n",
      "1\n"
     ]
    }
   ],
   "source": [
    "a = 1\n",
    "fun()\n",
    "print(a)\n",
    "\n",
    "def fun():\n",
    "    a = 2\n",
    "    print(a)"
   ]
  },
  {
   "cell_type": "markdown",
   "metadata": {},
   "source": [
    "**Exercice 1** : Expliquer ce qu'affiche le programme suivant. "
   ]
  },
  {
   "cell_type": "code",
   "execution_count": 20,
   "metadata": {
    "collapsed": false
   },
   "outputs": [
    {
     "name": "stdout",
     "output_type": "stream",
     "text": [
      "1\n",
      "2\n",
      "3\n"
     ]
    }
   ],
   "source": [
    "a = 3\n",
    "fun1()\n",
    "fun2()\n",
    "print(a)\n",
    "\n",
    "def fun1():\n",
    "    a = 1\n",
    "    print(a)\n",
    "    \n",
    "def fun2():\n",
    "    a = 2\n",
    "    print(a)"
   ]
  },
  {
   "cell_type": "markdown",
   "metadata": {},
   "source": [
    "## Accéder à une variable globale depuis une fonction"
   ]
  },
  {
   "cell_type": "markdown",
   "metadata": {},
   "source": [
    "Il peut être nécessaire d'accéder à une variable globale depuis une fonction, pour connaître sa valeur par exemple. Cela est impossible à faire avec ce que nous avons vu précédemment. Mais Python prévoit un mot-clef pour permettre cette opération. Il s'agit du mot-clef *global*."
   ]
  },
  {
   "cell_type": "markdown",
   "metadata": {},
   "source": [
    "Dans l'exemple ci-dessous :\n",
    "1. La ligne 1 créé une variable **globale** *a*. \n",
    "2. La ligne 2 lance **une** exécution de la fonction *fun*.\n",
    "3. Lors de cette exécution, la variable *a* est déclarée *global*.Cette variable désigne donc la variable globale de même nom et non une une variable locale. La valeur associée à cette variable est modifiée. Le nombre 2 s'affiche.\n",
    "4. la ligne 3 affiche la valeur de la variable **globale** *a*. La valeur associée à celle-ci a été modifiée lors de l'exécution de la fonction *fun*. Le nombre 2 (et pas 1) s'affiche."
   ]
  },
  {
   "cell_type": "code",
   "execution_count": 25,
   "metadata": {
    "collapsed": false
   },
   "outputs": [
    {
     "name": "stdout",
     "output_type": "stream",
     "text": [
      "2\n",
      "2\n"
     ]
    }
   ],
   "source": [
    "a = 1\n",
    "fun()\n",
    "print(a)\n",
    "\n",
    "def fun():\n",
    "    global a\n",
    "    a = 2\n",
    "    print(a)"
   ]
  },
  {
   "cell_type": "markdown",
   "metadata": {},
   "source": [
    "**Exercice 2** : Expliquez ce qu'affiche le programme suivant."
   ]
  },
  {
   "cell_type": "code",
   "execution_count": 27,
   "metadata": {
    "collapsed": false
   },
   "outputs": [
    {
     "name": "stdout",
     "output_type": "stream",
     "text": [
      "global x : 0\n",
      "fun1 x : 1\n",
      "fun2 x : 2\n",
      "fun1 x : 1\n",
      "global x : 2\n"
     ]
    }
   ],
   "source": [
    "def fun1():\n",
    "    x = 1;\n",
    "    print(\"fun1 x : \" + str(x));\n",
    "    fun2();\n",
    "    print(\"fun1 x : \" + str(x));\n",
    "\n",
    "def fun2():\n",
    "    global x;\n",
    "    x = 2;\n",
    "    print(\"fun2 x : \" + str(x));\n",
    "\n",
    "x = 0;\n",
    "print(\"global x : \" + str(x));\n",
    "fun1();\n",
    "print(\"global x : \" + str(x));\n"
   ]
  },
  {
   "cell_type": "markdown",
   "metadata": {},
   "source": [
    "## Les variables non locales (upvalues)"
   ]
  },
  {
   "cell_type": "markdown",
   "metadata": {},
   "source": [
    "A compléter"
   ]
  },
  {
   "cell_type": "code",
   "execution_count": null,
   "metadata": {
    "collapsed": true
   },
   "outputs": [],
   "source": []
  }
 ],
 "metadata": {
  "kernelspec": {
   "display_name": "Python 3",
   "language": "python",
   "name": "python3"
  },
  "language_info": {
   "codemirror_mode": {
    "name": "ipython",
    "version": 3
   },
   "file_extension": ".py",
   "mimetype": "text/x-python",
   "name": "python",
   "nbconvert_exporter": "python",
   "pygments_lexer": "ipython3",
   "version": "3.5.1"
  }
 },
 "nbformat": 4,
 "nbformat_minor": 0
}
