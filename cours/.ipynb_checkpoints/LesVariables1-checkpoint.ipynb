{
 "cells": [
  {
   "cell_type": "markdown",
   "metadata": {},
   "source": [
    "Formation NSI :\n",
    "- Tamin Fadi\n",
    "- Seger Frédéric"
   ]
  },
  {
   "cell_type": "markdown",
   "metadata": {},
   "source": [
    "# Les variables, partie 1 : instruction d'affectation"
   ]
  },
  {
   "cell_type": "markdown",
   "metadata": {},
   "source": [
    "Prérequis :\n",
    "Utilisation du REPL comme une calculatrice\n",
    "\n",
    "Aborde uniquement les notions de base et en particulier l'instruction d'affectation.\n",
    "\n",
    "Est suivie de deux autres parties :\n",
    "- La visibilité des variables (à aborder à l'occasion de l'étude des fonctions)\n",
    "- Les références vers des objets mutables (à aborder à l'occasion de l'étude des listes)"
   ]
  },
  {
   "cell_type": "markdown",
   "metadata": {},
   "source": [
    "## Les *variables* comme lien entre un nom et une valeur"
   ]
  },
  {
   "cell_type": "markdown",
   "metadata": {},
   "source": [
    "Une variable permet de lier un identifiant (un nom) avec une valeur.\n",
    "Dans l'exemple suivant on relie l'identifiant nbVies à la valeur 5 :"
   ]
  },
  {
   "cell_type": "code",
   "execution_count": 6,
   "metadata": {
    "collapsed": false
   },
   "outputs": [
    {
     "name": "stdout",
     "output_type": "stream",
     "text": [
      "5\n"
     ]
    }
   ],
   "source": [
    "nbVies = 5\n",
    "print(nbVies)"
   ]
  },
  {
   "cell_type": "markdown",
   "metadata": {},
   "source": [
    "L'identifiant nbVies peut alors être utilisé en lieu et place de la valeur 5, comme dans les exemples ci-dessous :"
   ]
  },
  {
   "cell_type": "code",
   "execution_count": 7,
   "metadata": {
    "collapsed": false
   },
   "outputs": [
    {
     "name": "stdout",
     "output_type": "stream",
     "text": [
      "il vous reste 5 vies\n",
      "et bientôt il vous en restera 3\n"
     ]
    }
   ],
   "source": [
    "print(\"il vous reste \" + str(nbVies) + \" vies\")\n",
    "print(\"et bientôt il vous en restera \" + str(nbVies - 2))"
   ]
  },
  {
   "cell_type": "markdown",
   "metadata": {},
   "source": [
    "Le code de l'exemple précédent pourrait être réécrit ainsi (ne jamais hésiter à créer autant de variables que nécessaire) :"
   ]
  },
  {
   "cell_type": "code",
   "execution_count": 8,
   "metadata": {
    "collapsed": false
   },
   "outputs": [
    {
     "name": "stdout",
     "output_type": "stream",
     "text": [
      "il vous reste 5 vies\n",
      "et bientôt il vous en restera 4\n"
     ]
    }
   ],
   "source": [
    "print(\"il vous reste \" + str(nbVies) + \" vies\")\n",
    "nbViesRestantes = nbVies - 1\n",
    "print(\"et bientôt il vous en restera \" + str(nbViesRestantes))"
   ]
  },
  {
   "cell_type": "markdown",
   "metadata": {},
   "source": [
    "## Les noms de variables "
   ]
  },
  {
   "cell_type": "markdown",
   "metadata": {},
   "source": [
    "Les noms de variables doivent :\n",
    "\n",
    "- commencer avec une lettre ou le caractère '_'\n",
    "- continuer avec un nombre quelconque de caractères parmi les lettres, les chiffres et le caractère '_'\n",
    "- être différents des noms prédéfinis par python.\n",
    "\n",
    "Attention : python fait la distinction entre majuscules et minuscules. Pour python donc, 'p' et 'P' sont deux lettres différentes. Ainsi, *nbVies* et *nbvies* sont deux noms de variables **différents**.\n",
    "\n",
    "exemples de noms de variables permis :"
   ]
  },
  {
   "cell_type": "code",
   "execution_count": 9,
   "metadata": {
    "collapsed": true
   },
   "outputs": [],
   "source": [
    "nb_vies = 5\n",
    "nbvies = 5\n",
    "nbVies = 5\n",
    "ma_var_1 = 5\n",
    "mavar1 = 5"
   ]
  },
  {
   "cell_type": "markdown",
   "metadata": {},
   "source": [
    "exemples de noms de variables interdits"
   ]
  },
  {
   "cell_type": "code",
   "execution_count": 10,
   "metadata": {
    "collapsed": false
   },
   "outputs": [
    {
     "ename": "SyntaxError",
     "evalue": "invalid syntax (<ipython-input-10-1f02a73b3746>, line 1)",
     "output_type": "error",
     "traceback": [
      "\u001b[1;36m  File \u001b[1;32m\"<ipython-input-10-1f02a73b3746>\"\u001b[1;36m, line \u001b[1;32m1\u001b[0m\n\u001b[1;33m    nb vies = 5\u001b[0m\n\u001b[1;37m          ^\u001b[0m\n\u001b[1;31mSyntaxError\u001b[0m\u001b[1;31m:\u001b[0m invalid syntax\n"
     ]
    }
   ],
   "source": [
    "nb vies = 5"
   ]
  },
  {
   "cell_type": "code",
   "execution_count": null,
   "metadata": {
    "collapsed": false
   },
   "outputs": [],
   "source": [
    "1mavar = 5"
   ]
  },
  {
   "cell_type": "code",
   "execution_count": null,
   "metadata": {
    "collapsed": false
   },
   "outputs": [],
   "source": [
    "if = 2"
   ]
  },
  {
   "cell_type": "markdown",
   "metadata": {},
   "source": [
    "**Exercice 1** : Expliquer pourquoi les noms de variables ci-dessus sont illicites."
   ]
  },
  {
   "cell_type": "markdown",
   "metadata": {},
   "source": [
    "Exemples de noms de variables à éviter"
   ]
  },
  {
   "cell_type": "code",
   "execution_count": null,
   "metadata": {
    "collapsed": false
   },
   "outputs": [],
   "source": [
    "élégance = 0 # éviter les accents"
   ]
  },
  {
   "cell_type": "code",
   "execution_count": null,
   "metadata": {
    "collapsed": true
   },
   "outputs": [],
   "source": [
    "l1 = 12 # attention aux graphies du L minuscule et du chiffre 1 !"
   ]
  },
  {
   "cell_type": "markdown",
   "metadata": {},
   "source": [
    "Il faut aussi veiller à choisir des noms de variables qui signifient quelque chose pour le lecteur du programme."
   ]
  },
  {
   "cell_type": "markdown",
   "metadata": {},
   "source": [
    "## Des liens qui varient"
   ]
  },
  {
   "cell_type": "markdown",
   "metadata": {},
   "source": [
    "Au cours de l'exécution du programme, c'est à dire, en un certain sens, au cours du temps, l'identifiant pourra être relié à différentes valeur. Pour un même identifiant, la valeur associée va varier, d'où le terme de *variable*. Par exemple :"
   ]
  },
  {
   "cell_type": "code",
   "execution_count": null,
   "metadata": {
    "collapsed": false
   },
   "outputs": [],
   "source": [
    "nbVies = 5\n",
    "print(nbVies)\n",
    "nbVies = 4\n",
    "print(nbVies)"
   ]
  },
  {
   "cell_type": "markdown",
   "metadata": {},
   "source": [
    "Dans l'exemple ci-dessus, la première ligne associe l'identifiant *nbVies* à la valeur 5. La troisième ligne, exécuté après la première, associe l'identifiant *nbVies* à la valeur 5. La valeur associée à *nbVies* a donc varié."
   ]
  },
  {
   "cell_type": "markdown",
   "metadata": {},
   "source": [
    "## Instruction d'affectation et tableaux d'étapes"
   ]
  },
  {
   "cell_type": "markdown",
   "metadata": {},
   "source": [
    "Pour idiquer quelle valeur doit-être asssociée à un identifiant, on utilise une *instruction d'affectation*. ne telle instruction se compose de trois parties. De gauche à droite :\n",
    "1. l'identifiant\n",
    "2. un (unique) signe =\n",
    "3. une expression (un 'calcul' qui a une valeur)\n",
    "Python commence tout d'abord par calculer l'expression puis lelie l'identifiant à la valeur obtenue."
   ]
  },
  {
   "cell_type": "markdown",
   "metadata": {},
   "source": [
    "Premier exemple :"
   ]
  },
  {
   "cell_type": "code",
   "execution_count": null,
   "metadata": {
    "collapsed": true
   },
   "outputs": [],
   "source": [
    "nbVies = 5 * (3 + 1) - 7"
   ]
  },
  {
   "cell_type": "markdown",
   "metadata": {},
   "source": [
    "dans cet exemple, l'identifiant *nbVies* est lié à la valeur 33. On dit que *la valeur 33 est affectée à la variable nbVies*."
   ]
  },
  {
   "cell_type": "markdown",
   "metadata": {},
   "source": [
    "Second exemple :"
   ]
  },
  {
   "cell_type": "code",
   "execution_count": null,
   "metadata": {
    "collapsed": true
   },
   "outputs": [],
   "source": [
    "nbVies = 5\n",
    "nbViesRestantes = nbVies - 1"
   ]
  },
  {
   "cell_type": "markdown",
   "metadata": {},
   "source": [
    "Dans cet exemple, la première ligne affecte la valeur 5 à la variable *nbVies*. La seconde ligne est évaluée ainsi :\n",
    "1. L'expression *nbVies - 1* est évaluée (calculée). Sa valeur est égale à 4.\n",
    "2. La valeur 4 est affectée à la variable *nbViesRestantes*"
   ]
  },
  {
   "cell_type": "markdown",
   "metadata": {},
   "source": [
    "Troisième exemple :"
   ]
  },
  {
   "cell_type": "code",
   "execution_count": null,
   "metadata": {
    "collapsed": true
   },
   "outputs": [],
   "source": [
    "nbVies = 5\n",
    "nbVies = nbVies - 1"
   ]
  },
  {
   "cell_type": "markdown",
   "metadata": {},
   "source": [
    "Dans cet exemple, la première ligne affecte la valeur 5 à la variable *nbVies*. La seconde ligne est évaluée ainsi :\n",
    "1. L'expression *nbVies - 1* est évaluée (calculée). Sa valeur est égale à 4.\n",
    "2. La valeur 4 est affectée à la variable *nbVies*\n",
    "\n",
    "La valeur affectée à la valeur *nbVies* a donc varié !"
   ]
  },
  {
   "cell_type": "markdown",
   "metadata": {},
   "source": [
    "Attention ! Une instruction telle que :"
   ]
  },
  {
   "cell_type": "code",
   "execution_count": null,
   "metadata": {
    "collapsed": false
   },
   "outputs": [],
   "source": [
    "a + 1 = 5"
   ]
  },
  {
   "cell_type": "markdown",
   "metadata": {},
   "source": [
    "**Exercice 2** : Pourquoi ?"
   ]
  },
  {
   "cell_type": "markdown",
   "metadata": {},
   "source": [
    "**Exercice 3** : Quelles sont les différentes valeurs affectées aux variables lors de l'exécution du programme ci-dessous ?\n",
    "Pour cela vous compléterez le *tableau d'étapes* suivant :\n",
    "\n",
    "|valeurs de |a|b|\n",
    "|---|---|---|\n",
    "|ligne 1|1 | |\n",
    "|ligne 2|1 |2 |\n",
    "|ligne 3| | |\n",
    "|ligne 4| | |\n",
    "|ligne 5| | |\n",
    "\n",
    "\n"
   ]
  },
  {
   "cell_type": "code",
   "execution_count": null,
   "metadata": {
    "collapsed": false
   },
   "outputs": [],
   "source": [
    "a = 1\n",
    "b = 2\n",
    "a = a + b\n",
    "b = a - b\n",
    "a = a - b\n",
    "\n"
   ]
  },
  {
   "cell_type": "markdown",
   "metadata": {},
   "source": [
    "**Exercice 4** : Même exercice, mais vous créerez le tableau d'étapes vous-même."
   ]
  },
  {
   "cell_type": "code",
   "execution_count": null,
   "metadata": {
    "collapsed": true
   },
   "outputs": [],
   "source": [
    "a = 1\n",
    "b = 2\n",
    "c = a\n",
    "a = b\n",
    "b = c"
   ]
  },
  {
   "cell_type": "markdown",
   "metadata": {},
   "source": [
    "**Exercice 5** : Dans les deux exercices précédents, les lignes 3, 4, 5, permettent d'échanger les contenus des variables *a* et *b*. Ces deux programmes permettent-ils de faire cet échange quelque soit le contenu des variables *a* et *b* ?"
   ]
  },
  {
   "cell_type": "markdown",
   "metadata": {},
   "source": [
    "**Exercice 6** : Etablissez le programme d'étape du programme suivant :"
   ]
  },
  {
   "cell_type": "code",
   "execution_count": null,
   "metadata": {
    "collapsed": true
   },
   "outputs": [],
   "source": [
    "a = 1\n",
    "b = 2\n",
    "a = b\n",
    "b = a"
   ]
  },
  {
   "cell_type": "markdown",
   "metadata": {},
   "source": [
    "**Exercice 7** : En Python, il est possible de permuter les valeurs affectées à deux (ou plus) variables de la façon suivante (voir la ligne 4 du programme ci-dessous). Expliquer avec précision le fonctionnement de cette instruction. Que ce passe-t-il si l'on remplace la ligne 4 par :\n",
    "\n",
    "*a, b = a - b, b + a*"
   ]
  },
  {
   "cell_type": "code",
   "execution_count": null,
   "metadata": {
    "collapsed": false
   },
   "outputs": [],
   "source": [
    "a = 1\n",
    "b = 2\n",
    "print(a, b)\n",
    "a, b = b, a\n",
    "print(a, b)"
   ]
  },
  {
   "cell_type": "markdown",
   "metadata": {},
   "source": [
    "## Les affectations ne sont pas rétroactives"
   ]
  },
  {
   "cell_type": "markdown",
   "metadata": {},
   "source": [
    "Le mot *variable* a, en informatique, un sens très spécifique qu'il ne faut pas confondre avec le sens qu'il a en mathématiques. "
   ]
  },
  {
   "cell_type": "markdown",
   "metadata": {},
   "source": [
    "Par exemple, lors de l'utilisation d'un tableur, on a entré les formules suivantes :\n",
    "\n",
    "||A|B|\n",
    "|---|---|---|\n",
    "|1|5|A1 + 1|\n",
    "\n",
    "La cellule A1 affiche 5 et la cellule B1 affiche 5 + 1 = 6\n",
    "\n",
    "Si, maintenant, on entre la valeur 6 en A1 alors B1 affiche 6 + 1 = 7"
   ]
  },
  {
   "cell_type": "markdown",
   "metadata": {},
   "source": [
    "Par contre en informatique à l'issue de l'exécution du programme suivant, la variable b contient 6 :"
   ]
  },
  {
   "cell_type": "code",
   "execution_count": null,
   "metadata": {
    "collapsed": false
   },
   "outputs": [],
   "source": [
    "a = 5\n",
    "b = a + 1\n",
    "a = 6\n",
    "print(\"a = \" + str(a))\n",
    "print(\"b = \" + str(b))"
   ]
  },
  {
   "cell_type": "markdown",
   "metadata": {},
   "source": [
    "**Exercice 8** : Expliquer pourquoi en établissant le tableau d'étapes de ce programme."
   ]
  },
  {
   "cell_type": "markdown",
   "metadata": {
    "collapsed": true
   },
   "source": [
    "## Création et destruction d'une variable"
   ]
  },
  {
   "cell_type": "markdown",
   "metadata": {},
   "source": [
    "Une variable qui n'existe pas déjà est créée automatiquement lors de la première affectation."
   ]
  },
  {
   "cell_type": "markdown",
   "metadata": {},
   "source": [
    "Par exemple, l'instruction ci dessous produit une erreur car elle tente d'afficher une variable qui n'existe pas."
   ]
  },
  {
   "cell_type": "code",
   "execution_count": null,
   "metadata": {
    "collapsed": false
   },
   "outputs": [],
   "source": [
    "print(z)"
   ]
  },
  {
   "cell_type": "markdown",
   "metadata": {},
   "source": [
    "Dans l'exemple qui suit, il n'y a pas d'errreur car l'instruction d'affectation de la ligne 1 créé automatiquement la variable *z*."
   ]
  },
  {
   "cell_type": "code",
   "execution_count": null,
   "metadata": {
    "collapsed": false
   },
   "outputs": [],
   "source": [
    "z = 12\n",
    "print(z)"
   ]
  },
  {
   "cell_type": "markdown",
   "metadata": {},
   "source": [
    "Enfin, il est possible (mais peu recommandé sans raison très particulière) de détruire une variable avec la fonction *del*."
   ]
  },
  {
   "cell_type": "markdown",
   "metadata": {},
   "source": [
    "Dans l'exemple suivant, la ligne 4 produit une erreur car elle tente d'accéder à la valeur associée à une variable qui vient d'être détruite par l'instruction en ligne 3."
   ]
  },
  {
   "cell_type": "code",
   "execution_count": null,
   "metadata": {
    "collapsed": false
   },
   "outputs": [],
   "source": [
    "z = 21\n",
    "print(z)\n",
    "del(z)\n",
    "print(z)\n"
   ]
  },
  {
   "cell_type": "code",
   "execution_count": null,
   "metadata": {
    "collapsed": true
   },
   "outputs": [],
   "source": []
  }
 ],
 "metadata": {
  "kernelspec": {
   "display_name": "Python 3",
   "language": "python",
   "name": "python3"
  },
  "language_info": {
   "codemirror_mode": {
    "name": "ipython",
    "version": 3
   },
   "file_extension": ".py",
   "mimetype": "text/x-python",
   "name": "python",
   "nbconvert_exporter": "python",
   "pygments_lexer": "ipython3",
   "version": "3.5.1"
  }
 },
 "nbformat": 4,
 "nbformat_minor": 0
}
